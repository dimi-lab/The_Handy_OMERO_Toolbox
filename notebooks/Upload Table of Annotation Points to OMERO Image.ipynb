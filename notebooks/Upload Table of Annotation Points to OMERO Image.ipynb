{
 "cells": [
  {
   "cell_type": "code",
   "execution_count": 8,
   "id": "4ba20573",
   "metadata": {},
   "outputs": [
    {
     "name": "stdout",
     "output_type": "stream",
     "text": [
      "2024_10_08\n"
     ]
    }
   ],
   "source": [
    "import os, random\n",
    "import numpy as np\n",
    "import pandas as pd\n",
    "import datetime\n",
    "from pprint import pprint\n",
    "from pathlib import Path\n",
    "import configparser\n",
    "import ezomero\n",
    "from ezomero import rois\n",
    "#   https://thejacksonlaboratory.github.io/ezomero/ezomero.html#module-ezomero\n",
    "#   https://docs.openmicroscopy.org/ome-model/5.6.3/developers/roi.html\n",
    "#   https://github.com/HdBraanker/Spectral_Flow_Workflow/blob/main/script.Rmd\n",
    "home = str(Path.home())\n",
    "\n",
    "datestr = datetime.datetime.now().strftime('%Y_%m_%d')\n",
    "print(datestr)"
   ]
  },
  {
   "cell_type": "code",
   "execution_count": 9,
   "id": "2a6bc496",
   "metadata": {},
   "outputs": [
    {
     "data": {
      "text/html": [
       "<div>\n",
       "<style scoped>\n",
       "    .dataframe tbody tr th:only-of-type {\n",
       "        vertical-align: middle;\n",
       "    }\n",
       "\n",
       "    .dataframe tbody tr th {\n",
       "        vertical-align: top;\n",
       "    }\n",
       "\n",
       "    .dataframe thead th {\n",
       "        text-align: right;\n",
       "    }\n",
       "</style>\n",
       "<table border=\"1\" class=\"dataframe\">\n",
       "  <thead>\n",
       "    <tr style=\"text-align: right;\">\n",
       "      <th></th>\n",
       "      <th>CellTypes</th>\n",
       "      <th>x</th>\n",
       "      <th>y</th>\n",
       "    </tr>\n",
       "  </thead>\n",
       "  <tbody>\n",
       "    <tr>\n",
       "      <th>0</th>\n",
       "      <td>&lt;TBD&gt;</td>\n",
       "      <td>3824.5</td>\n",
       "      <td>3397.1</td>\n",
       "    </tr>\n",
       "    <tr>\n",
       "      <th>1</th>\n",
       "      <td>&lt;TBD&gt;</td>\n",
       "      <td>3735.0</td>\n",
       "      <td>2470.5</td>\n",
       "    </tr>\n",
       "    <tr>\n",
       "      <th>2</th>\n",
       "      <td>&lt;TBD&gt;</td>\n",
       "      <td>3835.1</td>\n",
       "      <td>2950.5</td>\n",
       "    </tr>\n",
       "    <tr>\n",
       "      <th>3</th>\n",
       "      <td>&lt;TBD&gt;</td>\n",
       "      <td>3792.0</td>\n",
       "      <td>3347.9</td>\n",
       "    </tr>\n",
       "    <tr>\n",
       "      <th>4</th>\n",
       "      <td>&lt;TBD&gt;</td>\n",
       "      <td>3661.1</td>\n",
       "      <td>2464.0</td>\n",
       "    </tr>\n",
       "    <tr>\n",
       "      <th>...</th>\n",
       "      <td>...</td>\n",
       "      <td>...</td>\n",
       "      <td>...</td>\n",
       "    </tr>\n",
       "    <tr>\n",
       "      <th>1795</th>\n",
       "      <td>TumC</td>\n",
       "      <td>3389.2</td>\n",
       "      <td>2270.9</td>\n",
       "    </tr>\n",
       "    <tr>\n",
       "      <th>1796</th>\n",
       "      <td>TumC</td>\n",
       "      <td>3337.9</td>\n",
       "      <td>3448.3</td>\n",
       "    </tr>\n",
       "    <tr>\n",
       "      <th>1797</th>\n",
       "      <td>TumC</td>\n",
       "      <td>3255.8</td>\n",
       "      <td>5305.2</td>\n",
       "    </tr>\n",
       "    <tr>\n",
       "      <th>1798</th>\n",
       "      <td>TumC</td>\n",
       "      <td>3319.1</td>\n",
       "      <td>3547.5</td>\n",
       "    </tr>\n",
       "    <tr>\n",
       "      <th>1799</th>\n",
       "      <td>TumC</td>\n",
       "      <td>4583.5</td>\n",
       "      <td>5245.5</td>\n",
       "    </tr>\n",
       "  </tbody>\n",
       "</table>\n",
       "<p>1800 rows × 3 columns</p>\n",
       "</div>"
      ],
      "text/plain": [
       "     CellTypes       x       y\n",
       "0        <TBD>  3824.5  3397.1\n",
       "1        <TBD>  3735.0  2470.5\n",
       "2        <TBD>  3835.1  2950.5\n",
       "3        <TBD>  3792.0  3347.9\n",
       "4        <TBD>  3661.1  2464.0\n",
       "...        ...     ...     ...\n",
       "1795      TumC  3389.2  2270.9\n",
       "1796      TumC  3337.9  3448.3\n",
       "1797      TumC  3255.8  5305.2\n",
       "1798      TumC  3319.1  3547.5\n",
       "1799      TumC  4583.5  5245.5\n",
       "\n",
       "[1800 rows x 3 columns]"
      ]
     },
     "execution_count": 9,
     "metadata": {},
     "output_type": "execute_result"
    }
   ],
   "source": [
    "### Subset Quant File from QuPath, which includes class annotations\n",
    "clsPts = pd.read_csv(r'{}\\Downloads\\Slide-3015_potentialClasses.tsv'.format(home), sep=\"\\t\")  \n",
    "clsPts"
   ]
  },
  {
   "cell_type": "code",
   "execution_count": 10,
   "id": "89f5dbb0",
   "metadata": {},
   "outputs": [
    {
     "name": "stdout",
     "output_type": "stream",
     "text": [
      "Projects:\n",
      "\tBMS_Teir2_2022:\t102\n",
      "\tBMS_Tier1_2021:\t201\n",
      "\t3D Analysis MxIF:\t915\n",
      "\tIHC_v_MxIF_Developments:\t306\n",
      "\tMelPanel4:\t311\n",
      "\tBMS_CoreBiopsies_2023:\t405\n",
      "\tIHC_v_MxIF_For_March2023_PathReview:\t475\n",
      "\tTassos_updated_2023:\t457\n",
      "\tCosMx to CellDive Alignments:\t606\n",
      "\tMISCELLANEOUS:\t652\n",
      "\tIHC_v_MxIF_June6_PathReview:\t712\n",
      "\tElizabeth's Placenta Project:\t751\n",
      "\tLung Project :\t752\n",
      "\tGM_CSF_Pilot:\t807\n",
      "\tIHC_v_MxIF_Sept2023_PathReview:\t713\n",
      "\tIHCs for CD36 and FASN:\t865\n",
      "\tMackenzie Study and RO1 Practice:\t857\n",
      "\t20230620_IHC_MxIF_Dev_CD19_MPO_NRP2:\t853\n",
      "\tBMS_Aim2_Pratice:\t1005\n",
      "\tBMS_Aim2_Batch1:\t1264\n",
      "\tBMS_Aim2_Batch1_Gastric:\t1269\n",
      "\tBMS_2024_Mel_GI_H&E:\t1274\n",
      "\tPregnancy_Cancer:\t1276\n"
     ]
    }
   ],
   "source": [
    "# Settings for OMERO\n",
    "config = configparser.RawConfigParser()\n",
    "config.read(r'{}\\Documents\\myKeyVariables.cfg'.format(home))   \n",
    "envVars = dict(config.items('OMERO'))\n",
    "lab = envVars['labname']\n",
    "\n",
    "conn = ezomero.connect(envVars['user'], envVars['pass'], lab, host=envVars['url'], port=4064, secure=True)\n",
    "ezomero.print_projects(conn)"
   ]
  },
  {
   "cell_type": "code",
   "execution_count": 11,
   "id": "a899f9e5",
   "metadata": {},
   "outputs": [
    {
     "name": "stdout",
     "output_type": "stream",
     "text": [
      "Datasets in Project \"BMS_Aim2_Batch1\":\n",
      "\tBAD QUALITY:\t2115\n",
      "\tMelanoma:\t2048\n"
     ]
    }
   ],
   "source": [
    "ezomero.print_datasets(conn, project=1264)\n",
    "setDs = 2048\n",
    "\n",
    "getImageByName = {}\n",
    "imgs = ezomero.get_image_ids(conn, dataset=setDs)\n",
    "for im in imgs:\n",
    "    imgDesc, pix = ezomero.get_image(conn, im, xyzct=False, no_pixels=True)\n",
    "    imName = imgDesc.getName().replace(\".ome.tiff\",\"\")\n",
    "    getImageByName[imName] = im"
   ]
  },
  {
   "cell_type": "code",
   "execution_count": 12,
   "id": "62e38e21",
   "metadata": {},
   "outputs": [],
   "source": [
    "def generate_rgba_values(length=3):\n",
    "    rgba_list = []\n",
    "    for _ in range(length):\n",
    "        rgba = (\n",
    "            random.randint(0, 255),  # Red\n",
    "            random.randint(0, 255),  # Green\n",
    "            random.randint(0, 255),  # Blue\n",
    "            # round(random.uniform(0, 1), 2)  # Alpha (0.0 to 1.0)\n",
    "            0.96\n",
    "        )\n",
    "        rgba_list.append(rgba)\n",
    "    return rgba_list"
   ]
  },
  {
   "cell_type": "code",
   "execution_count": 16,
   "id": "2c3ef33b",
   "metadata": {},
   "outputs": [
    {
     "name": "stdout",
     "output_type": "stream",
     "text": [
      "Have 6 classes\n",
      "[(241, 241, 242, 0.96), (214, 32, 206, 0.96), (113, 181, 84, 0.96), (33, 161, 108, 0.96), (109, 78, 248, 0.96), (67, 27, 210, 0.96)]\n"
     ]
    }
   ],
   "source": [
    "im = getImageByName['SLIDE-3015_FullPanel']\n",
    "clc = len(clsPts['CellTypes'].unique())\n",
    "print(\"Have {} classes\".format(clc))\n",
    "myColors = generate_rgba_values(clc)\n",
    "print(myColors)\n",
    "\n",
    "## QuPath Exports in um, but OMERO uploads in px. Need pixel resolution.\n",
    "resolution_um_per_pixel = 0.325   # Fusion  0.51"
   ]
  },
  {
   "cell_type": "code",
   "execution_count": 17,
   "id": "910235e0",
   "metadata": {},
   "outputs": [
    {
     "name": "stdout",
     "output_type": "stream",
     "text": [
      "<TBD> - 300 rows\n",
      "Epithelial - 300 rows\n",
      "Neutro - 300 rows\n",
      "SM - 300 rows\n",
      "Treg - 300 rows\n",
      "TumC - 300 rows\n"
     ]
    }
   ],
   "source": [
    "i=0\n",
    "for cl in clsPts['CellTypes'].unique():\n",
    "    subTbl = clsPts[clsPts[\"CellTypes\"] == cl]\n",
    "    print(\"{} - {} rows\".format(cl,subTbl.shape[0]))\n",
    "    thesePoints = []\n",
    "    for ele in subTbl.iterrows():\n",
    "        row_dict = ele[1].to_dict()\n",
    "        ptObj = ezomero.rois.Point( x=(row_dict['x']/resolution_um_per_pixel),  # Centroid X µm\n",
    "                                    y=(row_dict['y']/resolution_um_per_pixel),  # Centroid Y µm\n",
    "                                    label=row_dict['CellTypes']\n",
    "                                  )\n",
    "        thesePoints.append( ptObj )\n",
    "    ezomero.post_roi(conn, im, thesePoints, stroke_color=myColors[i])\n",
    "    i+=1\n"
   ]
  },
  {
   "cell_type": "code",
   "execution_count": null,
   "id": "7353282c",
   "metadata": {},
   "outputs": [],
   "source": []
  }
 ],
 "metadata": {
  "kernelspec": {
   "display_name": "Python 3 (ipykernel)",
   "language": "python",
   "name": "python3"
  },
  "language_info": {
   "codemirror_mode": {
    "name": "ipython",
    "version": 3
   },
   "file_extension": ".py",
   "mimetype": "text/x-python",
   "name": "python",
   "nbconvert_exporter": "python",
   "pygments_lexer": "ipython3",
   "version": "3.10.9"
  }
 },
 "nbformat": 4,
 "nbformat_minor": 5
}
