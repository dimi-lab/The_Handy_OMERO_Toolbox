{
 "cells": [
  {
   "cell_type": "code",
   "execution_count": 1,
   "id": "4ba20573",
   "metadata": {},
   "outputs": [
    {
     "name": "stdout",
     "output_type": "stream",
     "text": [
      "2024_07_15\n"
     ]
    }
   ],
   "source": [
    "import os, random\n",
    "import numpy as np\n",
    "import pandas as pd\n",
    "import datetime\n",
    "from pprint import pprint\n",
    "from pathlib import Path\n",
    "import configparser\n",
    "import ezomero\n",
    "from ezomero import rois\n",
    "#   https://thejacksonlaboratory.github.io/ezomero/ezomero.html#module-ezomero\n",
    "#   https://docs.openmicroscopy.org/ome-model/5.6.3/developers/roi.html\n",
    "#   https://github.com/HdBraanker/Spectral_Flow_Workflow/blob/main/script.Rmd\n",
    "home = str(Path.home())\n",
    "\n",
    "datestr = datetime.datetime.now().strftime('%Y_%m_%d')\n",
    "print(datestr)"
   ]
  },
  {
   "cell_type": "code",
   "execution_count": 2,
   "id": "2a6bc496",
   "metadata": {},
   "outputs": [
    {
     "data": {
      "text/html": [
       "<div>\n",
       "<style scoped>\n",
       "    .dataframe tbody tr th:only-of-type {\n",
       "        vertical-align: middle;\n",
       "    }\n",
       "\n",
       "    .dataframe tbody tr th {\n",
       "        vertical-align: top;\n",
       "    }\n",
       "\n",
       "    .dataframe thead th {\n",
       "        text-align: right;\n",
       "    }\n",
       "</style>\n",
       "<table border=\"1\" class=\"dataframe\">\n",
       "  <thead>\n",
       "    <tr style=\"text-align: right;\">\n",
       "      <th></th>\n",
       "      <th>CellTypes</th>\n",
       "      <th>Centroid X µm</th>\n",
       "      <th>Centroid Y µm</th>\n",
       "    </tr>\n",
       "  </thead>\n",
       "  <tbody>\n",
       "    <tr>\n",
       "      <th>0</th>\n",
       "      <td>Macrophage</td>\n",
       "      <td>7392.60</td>\n",
       "      <td>6118.90</td>\n",
       "    </tr>\n",
       "    <tr>\n",
       "      <th>1</th>\n",
       "      <td>Macrophage</td>\n",
       "      <td>8891.20</td>\n",
       "      <td>8592.00</td>\n",
       "    </tr>\n",
       "    <tr>\n",
       "      <th>2</th>\n",
       "      <td>Macrophage</td>\n",
       "      <td>10239.70</td>\n",
       "      <td>3308.50</td>\n",
       "    </tr>\n",
       "    <tr>\n",
       "      <th>3</th>\n",
       "      <td>Macrophage</td>\n",
       "      <td>6681.80</td>\n",
       "      <td>4956.40</td>\n",
       "    </tr>\n",
       "    <tr>\n",
       "      <th>4</th>\n",
       "      <td>Macrophage</td>\n",
       "      <td>7264.10</td>\n",
       "      <td>7724.60</td>\n",
       "    </tr>\n",
       "    <tr>\n",
       "      <th>...</th>\n",
       "      <td>...</td>\n",
       "      <td>...</td>\n",
       "      <td>...</td>\n",
       "    </tr>\n",
       "    <tr>\n",
       "      <th>895</th>\n",
       "      <td>NK</td>\n",
       "      <td>352.96</td>\n",
       "      <td>6628.80</td>\n",
       "    </tr>\n",
       "    <tr>\n",
       "      <th>896</th>\n",
       "      <td>NK</td>\n",
       "      <td>9703.60</td>\n",
       "      <td>7454.50</td>\n",
       "    </tr>\n",
       "    <tr>\n",
       "      <th>897</th>\n",
       "      <td>NK</td>\n",
       "      <td>1428.20</td>\n",
       "      <td>5365.70</td>\n",
       "    </tr>\n",
       "    <tr>\n",
       "      <th>898</th>\n",
       "      <td>NK</td>\n",
       "      <td>9262.30</td>\n",
       "      <td>682.16</td>\n",
       "    </tr>\n",
       "    <tr>\n",
       "      <th>899</th>\n",
       "      <td>NK</td>\n",
       "      <td>9875.70</td>\n",
       "      <td>863.44</td>\n",
       "    </tr>\n",
       "  </tbody>\n",
       "</table>\n",
       "<p>900 rows × 3 columns</p>\n",
       "</div>"
      ],
      "text/plain": [
       "      CellTypes  Centroid X µm  Centroid Y µm\n",
       "0    Macrophage        7392.60        6118.90\n",
       "1    Macrophage        8891.20        8592.00\n",
       "2    Macrophage       10239.70        3308.50\n",
       "3    Macrophage        6681.80        4956.40\n",
       "4    Macrophage        7264.10        7724.60\n",
       "..          ...            ...            ...\n",
       "895          NK         352.96        6628.80\n",
       "896          NK        9703.60        7454.50\n",
       "897          NK        1428.20        5365.70\n",
       "898          NK        9262.30         682.16\n",
       "899          NK        9875.70         863.44\n",
       "\n",
       "[900 rows x 3 columns]"
      ]
     },
     "execution_count": 2,
     "metadata": {},
     "output_type": "execute_result"
    }
   ],
   "source": [
    "### Subset Quant File from QuPath, which includes class annotations\n",
    "clsPts = pd.read_csv(r'{}\\Downloads\\FF-19-8372_B3_potentialClasses.tsv'.format(home), sep=\"\\t\")  \n",
    "clsPts"
   ]
  },
  {
   "cell_type": "code",
   "execution_count": 3,
   "id": "89f5dbb0",
   "metadata": {},
   "outputs": [
    {
     "name": "stdout",
     "output_type": "stream",
     "text": [
      "Projects:\n",
      "\tPCF_2024_Transplant_Reaction_in_LN:\t1254\n"
     ]
    }
   ],
   "source": [
    "# Settings for OMERO\n",
    "config = configparser.RawConfigParser()\n",
    "config.read(r'{}\\Documents\\myKeyVariables.cfg'.format(home))   \n",
    "envVars = dict(config.items('OMERO'))\n",
    "\n",
    "conn = ezomero.connect(envVars['user'], envVars['pass'], 'Nguyen.J_Lab', host=envVars['url'], port=4064, secure=True)\n",
    "ezomero.print_projects(conn)"
   ]
  },
  {
   "cell_type": "code",
   "execution_count": 4,
   "id": "a899f9e5",
   "metadata": {},
   "outputs": [
    {
     "name": "stdout",
     "output_type": "stream",
     "text": [
      "Datasets in Project \"PCF_2024_Transplant_Reaction_in_LN\":\n",
      "\tcbdLN-Post:\t2016\n",
      "\tHDLN-Post:\t2015\n",
      "\tHDLN-Pre:\t2013\n",
      "\tiliacLN-Post:\t2012\n",
      "\t-removed-:\t2014\n"
     ]
    }
   ],
   "source": [
    "ezomero.print_datasets(conn, project=1254)\n",
    "setDs = 2015\n",
    "\n",
    "getImageByName = {}\n",
    "imgs = ezomero.get_image_ids(conn, dataset=setDs)\n",
    "for im in imgs:\n",
    "    imgDesc, pix = ezomero.get_image(conn, im, xyzct=False, no_pixels=True)\n",
    "    imName = imgDesc.getName().replace(\".ome.tiff\",\"\")\n",
    "    getImageByName[imName] = im"
   ]
  },
  {
   "cell_type": "code",
   "execution_count": 5,
   "id": "62e38e21",
   "metadata": {},
   "outputs": [],
   "source": [
    "def generate_rgba_values(length=3):\n",
    "    rgba_list = []\n",
    "    for _ in range(length):\n",
    "        rgba = (\n",
    "            random.randint(0, 255),  # Red\n",
    "            random.randint(0, 255),  # Green\n",
    "            random.randint(0, 255),  # Blue\n",
    "            # round(random.uniform(0, 1), 2)  # Alpha (0.0 to 1.0)\n",
    "            0.96\n",
    "        )\n",
    "        rgba_list.append(rgba)\n",
    "    return rgba_list"
   ]
  },
  {
   "cell_type": "code",
   "execution_count": 6,
   "id": "910235e0",
   "metadata": {},
   "outputs": [
    {
     "name": "stdout",
     "output_type": "stream",
     "text": [
      "Macrophage - 300 rows\n",
      "B cell - 300 rows\n",
      "NK - 300 rows\n"
     ]
    }
   ],
   "source": [
    "im = getImageByName['Slide1_B3.ome.tif']\n",
    "myColors = generate_rgba_values()\n",
    "\n",
    "## QuPath Exports in um, but OMERO uploads in px. Need pixel resolution.\n",
    "resolution_um_per_pixel = 0.51\n",
    "\n",
    "i=0\n",
    "for cl in clsPts['CellTypes'].unique():\n",
    "    subTbl = clsPts[clsPts[\"CellTypes\"] == cl]\n",
    "    print(\"{} - {} rows\".format(cl,subTbl.shape[0]))\n",
    "    thesePoints = []\n",
    "    for ele in subTbl.iterrows():\n",
    "        row_dict = ele[1].to_dict()\n",
    "        ptObj = ezomero.rois.Point( x=(row_dict['Centroid X µm']/resolution_um_per_pixel), \n",
    "                                    y=(row_dict['Centroid Y µm']/resolution_um_per_pixel), \n",
    "                                    label=row_dict['CellTypes']\n",
    "                                  )\n",
    "        thesePoints.append( ptObj )\n",
    "    ezomero.post_roi(conn, im, thesePoints, stroke_color=myColors[i])\n",
    "    i+=1\n"
   ]
  },
  {
   "cell_type": "code",
   "execution_count": null,
   "id": "7353282c",
   "metadata": {},
   "outputs": [],
   "source": []
  }
 ],
 "metadata": {
  "kernelspec": {
   "display_name": "Python 3 (ipykernel)",
   "language": "python",
   "name": "python3"
  },
  "language_info": {
   "codemirror_mode": {
    "name": "ipython",
    "version": 3
   },
   "file_extension": ".py",
   "mimetype": "text/x-python",
   "name": "python",
   "nbconvert_exporter": "python",
   "pygments_lexer": "ipython3",
   "version": "3.10.9"
  }
 },
 "nbformat": 4,
 "nbformat_minor": 5
}
