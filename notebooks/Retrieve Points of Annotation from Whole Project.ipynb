{
 "cells": [
  {
   "cell_type": "code",
   "execution_count": 1,
   "id": "b1c71e00",
   "metadata": {},
   "outputs": [],
   "source": [
    "import os\n",
    "import numpy as np\n",
    "import pandas as pd\n",
    "from datetime import datetime\n",
    "from pprint import pprint\n",
    "import configparser\n",
    "import ezomero\n",
    "from ezomero import rois\n",
    "#   https://thejacksonlaboratory.github.io/ezomero/ezomero.html#module-ezomero\n",
    "#   https://docs.openmicroscopy.org/ome-model/5.6.3/developers/roi.html\n",
    "#   https://github.com/HdBraanker/Spectral_Flow_Workflow/blob/main/script.Rmd"
   ]
  },
  {
   "cell_type": "code",
   "execution_count": 2,
   "id": "037f6cd9",
   "metadata": {},
   "outputs": [
    {
     "name": "stdout",
     "output_type": "stream",
     "text": [
      "Projects:\n",
      "\t2024_Panel:\t903\n",
      "\t20240119_YSPTRNeo2_Prakash:\t905\n",
      "\t20220415_YSP_CODEX_Hs_QC_Prakash:\t301\n",
      "\t20230516_req33419COPD_Prakash:\t918\n",
      "\t20221021_Req33382_Prakash:\t353\n",
      "\t20230201_YSPTRneo1_Prakash:\t482\n",
      "\t20230407_Req33419COPD_Prakash:\t618\n",
      "\t20230407_Req32370HS_Prakash:\t803\n",
      "\t20230505_req32370HS_Prakash:\t708\n",
      "\t20230512_req33421ASTHAM_Prakash:\t711\n",
      "\tManuscript:\t910\n"
     ]
    }
   ],
   "source": [
    "config = configparser.RawConfigParser()\n",
    "config.read(r'C:\\Users\\m088378\\Documents\\myKeyVariables.cfg')   \n",
    "envVars = dict(config.items('OMERO'))\n",
    "\n",
    "# Settings for OMERO\n",
    "user = envVars['user']\n",
    "password = envVars['pass']\n",
    "host = envVars['url']\n",
    "port = 4064 #4080\n",
    "secure = True #False\n",
    "outDir = envVars['pointsdownloaded']\n",
    "\n",
    "conn = ezomero.connect(user, password, 'Prakash.YS_Lab', host=host, port=port, secure=secure)\n",
    "ezomero.print_projects(conn)"
   ]
  },
  {
   "cell_type": "code",
   "execution_count": 3,
   "id": "d440b301",
   "metadata": {},
   "outputs": [
    {
     "name": "stdout",
     "output_type": "stream",
     "text": [
      "There are 3 datasets to investigate.\n"
     ]
    }
   ],
   "source": [
    "allSamps = ezomero.get_dataset_ids(conn, project=918)\n",
    "allSamps.extend( ezomero.get_dataset_ids(conn, project=708) )\n",
    "allSamps.extend( ezomero.get_dataset_ids(conn, project=711) )\n",
    "print(\"There are {} datasets to investigate.\".format(len(allSamps)))"
   ]
  },
  {
   "cell_type": "code",
   "execution_count": 4,
   "id": "05f66b95",
   "metadata": {
    "scrolled": false
   },
   "outputs": [
    {
     "name": "stdout",
     "output_type": "stream",
     "text": [
      "reg002.ome.tiff has 115\n",
      "reg003.ome.tiff has 123\n",
      "reg004.ome.tiff has 116\n",
      "A-1.ome.tif has 85\n",
      "A-2.ome.tif has 91\n",
      "A-3.ome.tif has 116\n",
      "A-1.ome.tif has 52\n",
      "A-2.ome.tif has 53\n",
      "A-3.ome.tif has 55\n"
     ]
    }
   ],
   "source": [
    "## Image Desc\n",
    "## https://docs.openmicroscopy.org/omero/5.4.1/developers/PythonBlitzGateway.html\n",
    "# https://downloads.openmicroscopy.org/omero/5.4.10/api/python/omero/omero.gateway.html#omero.gateway._ImageWrapper\n",
    "fout = open(os.path.join(outDir,'log_omero_points.txt'), 'w')\n",
    "for sm in allSamps:\n",
    "    directory_path = os.path.join(outDir,\"Dataset_\"+str(sm))\n",
    "    # Check if the directory exists\n",
    "    if not os.path.exists(directory_path):\n",
    "        # Create the directory\n",
    "        os.makedirs(directory_path)\n",
    "        print(f\"Directory '{directory_path}' created successfully.\")\n",
    "    \n",
    "    imgs = ezomero.get_image_ids(conn, dataset=sm)\n",
    "    for im in imgs:\n",
    "        imgDesc, pix = ezomero.get_image(conn, im, xyzct=False, no_pixels=True)\n",
    "        if(imgDesc.getROICount(shapeType=\"Point\") > 0):\n",
    "            fout.write(imgDesc.getName()+'\\n')\n",
    "            shName = imgDesc.getName().replace(\".ome.tiff\",'')\n",
    "            imgPointsIDs = ezomero.get_roi_ids(conn, im)\n",
    "            print(\"{} has {}\".format(imgDesc.getName().replace('\\\\.ome\\\\.tiff',''), len(imgPointsIDs)))\n",
    "            fout.write(\"{} Annotations\\n\".format(len(imgPointsIDs)))\n",
    "            allThesePoints = []\n",
    "            for i in imgPointsIDs:\n",
    "                for ppI in ezomero.get_shape_ids(conn, i):\n",
    "                    try:\n",
    "                        pt, fill, border, width = ezomero.get_shape(conn, ppI)\n",
    "                        allThesePoints.append([pt.x, pt.y, pt.label,pt.label, fill, border, width])\n",
    "                    except:\n",
    "                        print(\"   BAD point ID : \"+str(i))\n",
    "            #pprint(allThesePoints)\n",
    "            pointTable = pd.DataFrame(allThesePoints)\n",
    "            pointTable.columns = [\"x\",\"y\",\"class\", \"name\",\"fill\",\"border\",\"width\"]\n",
    "            cntTbl = pointTable['class'].value_counts().to_frame()\n",
    "            noms = cntTbl.index.to_list()\n",
    "            cnts = cntTbl.values\n",
    "            for n in range(len(noms)):\n",
    "                fout.write(\"{}\\t{}\\n\".format(noms[n],cnts[n][0]))\n",
    "            fout.write(\"\\n\")\n",
    "            pointTable.to_csv(os.path.join(directory_path,shName+'-points.tsv'), index=False, sep=\"\\t\")\n"
   ]
  },
  {
   "cell_type": "code",
   "execution_count": 5,
   "id": "94673816",
   "metadata": {},
   "outputs": [],
   "source": [
    "fout.close()"
   ]
  },
  {
   "cell_type": "code",
   "execution_count": null,
   "id": "f7b622c7",
   "metadata": {},
   "outputs": [],
   "source": []
  }
 ],
 "metadata": {
  "kernelspec": {
   "display_name": "Python 3 (ipykernel)",
   "language": "python",
   "name": "python3"
  },
  "language_info": {
   "codemirror_mode": {
    "name": "ipython",
    "version": 3
   },
   "file_extension": ".py",
   "mimetype": "text/x-python",
   "name": "python",
   "nbconvert_exporter": "python",
   "pygments_lexer": "ipython3",
   "version": "3.10.9"
  }
 },
 "nbformat": 4,
 "nbformat_minor": 5
}
