{
 "cells": [
  {
   "cell_type": "code",
   "execution_count": 1,
   "id": "b1c71e00",
   "metadata": {},
   "outputs": [
    {
     "name": "stdout",
     "output_type": "stream",
     "text": [
      "2024_10_08\n"
     ]
    }
   ],
   "source": [
    "import os\n",
    "import numpy as np\n",
    "import pandas as pd\n",
    "import datetime\n",
    "from pathlib import Path\n",
    "from pprint import pprint\n",
    "import configparser\n",
    "import ezomero\n",
    "from ezomero import rois\n",
    "#   https://thejacksonlaboratory.github.io/ezomero/ezomero.html#module-ezomero\n",
    "#   https://docs.openmicroscopy.org/ome-model/5.6.3/developers/roi.html\n",
    "#   https://github.com/HdBraanker/Spectral_Flow_Workflow/blob/main/script.Rmd\n",
    "datestr = datetime.datetime.now().strftime('%Y_%m_%d')\n",
    "print(datestr)"
   ]
  },
  {
   "cell_type": "code",
   "execution_count": 2,
   "id": "037f6cd9",
   "metadata": {},
   "outputs": [
    {
     "name": "stdout",
     "output_type": "stream",
     "text": [
      "Projects:\n",
      "\tBMS_Teir2_2022:\t102\n",
      "\tBMS_Tier1_2021:\t201\n",
      "\t3D Analysis MxIF:\t915\n",
      "\tIHC_v_MxIF_Developments:\t306\n",
      "\tMelPanel4:\t311\n",
      "\tBMS_CoreBiopsies_2023:\t405\n",
      "\tIHC_v_MxIF_For_March2023_PathReview:\t475\n",
      "\tTassos_updated_2023:\t457\n",
      "\tCosMx to CellDive Alignments:\t606\n",
      "\tMISCELLANEOUS:\t652\n",
      "\tIHC_v_MxIF_June6_PathReview:\t712\n",
      "\tElizabeth's Placenta Project:\t751\n",
      "\tLung Project :\t752\n",
      "\tGM_CSF_Pilot:\t807\n",
      "\tIHC_v_MxIF_Sept2023_PathReview:\t713\n",
      "\tIHCs for CD36 and FASN:\t865\n",
      "\tMackenzie Study and RO1 Practice:\t857\n",
      "\t20230620_IHC_MxIF_Dev_CD19_MPO_NRP2:\t853\n",
      "\tBMS_Aim2_Pratice:\t1005\n",
      "\tBMS_Aim2_Batch1:\t1264\n",
      "\tBMS_Aim2_Batch1_Gastric:\t1269\n",
      "\tBMS_2024_Mel_GI_H&E:\t1274\n",
      "\tPregnancy_Cancer:\t1276\n"
     ]
    }
   ],
   "source": [
    "# Settings for OMERO\n",
    "home = str(Path.home())\n",
    "config = configparser.RawConfigParser()\n",
    "config.read(r'{}\\Documents\\myKeyVariables.cfg'.format(home))   \n",
    "envVars = dict(config.items('OMERO'))\n",
    "\n",
    "# Settings for OMERO\n",
    "user = envVars['user']\n",
    "password = envVars['pass']\n",
    "host = envVars['url']\n",
    "port = 4064 #4080\n",
    "secure = True #False\n",
    "outDir = envVars['pointsdownloaded']\n",
    "lab = envVars['labname']\n",
    "\n",
    "conn = ezomero.connect(user, password, lab, host=host, port=port, secure=secure)\n",
    "ezomero.print_projects(conn)"
   ]
  },
  {
   "cell_type": "code",
   "execution_count": 3,
   "id": "b17050e0",
   "metadata": {},
   "outputs": [
    {
     "name": "stdout",
     "output_type": "stream",
     "text": [
      "Datasets in Project \"BMS_Aim2_Batch1\":\n",
      "\tBAD QUALITY:\t2115\n",
      "\tMelanoma:\t2048\n"
     ]
    }
   ],
   "source": [
    "ezomero.print_datasets(conn, project=1264)\n",
    "allDatasets = ezomero.get_dataset_ids(conn, project=1264)"
   ]
  },
  {
   "cell_type": "code",
   "execution_count": 4,
   "id": "05f66b95",
   "metadata": {
    "scrolled": true
   },
   "outputs": [
    {
     "name": "stdout",
     "output_type": "stream",
     "text": [
      "Directory 'Y:\\AnalysisPipelineProjects\\BMS2_Melanoma\\OMERO_POINTS\\Dataset_2048' created successfully.\n",
      "SLIDE-3001_FullPanel.ome.tiff has 152\n",
      "   Not point ID : 76796\n",
      "SLIDE-3016_FullPanel.ome.tiff has 437\n",
      "   Not point ID : 76752\n",
      "   Not point ID : 76753\n",
      "   Not point ID : 76754\n",
      "   Not point ID : 76755\n",
      "   Not point ID : 76756\n",
      "   Not point ID : 76757\n",
      "   Not point ID : 76758\n",
      "   Not point ID : 76759\n",
      "   Not point ID : 76760\n",
      "   Not point ID : 76761\n",
      "   Not point ID : 76762\n",
      "   Not point ID : 76763\n",
      "   Not point ID : 76764\n",
      "   Not point ID : 76765\n",
      "SLIDE-3019_FullPanel.ome.tiff has 13\n",
      "   Not point ID : 76749\n",
      "   Not point ID : 77010\n",
      "   Not point ID : 77011\n",
      "SLIDE-3020_FullPanel.ome.tiff has 451\n",
      "SLIDE-3021_FullPanel.ome.tiff has 470\n",
      "Directory 'Y:\\AnalysisPipelineProjects\\BMS2_Melanoma\\OMERO_POINTS\\Dataset_2115' created successfully.\n",
      "SLIDE-3001_FullPanel.ome.tiff has 152\n",
      "   Not point ID : 76796\n"
     ]
    }
   ],
   "source": [
    "## Image Desc\n",
    "## https://docs.openmicroscopy.org/omero/5.4.1/developers/PythonBlitzGateway.html\n",
    "# https://downloads.openmicroscopy.org/omero/5.4.10/api/python/omero/omero.gateway.html#omero.gateway._ImageWrapper\n",
    "fout = open(os.path.join(outDir,'log_omero_{}.txt'.format(datestr) ), 'w')\n",
    "for sm in allDatasets:\n",
    "    directory_path = os.path.join(outDir,\"Dataset_\"+str(sm))\n",
    "    # Check if the directory exists\n",
    "    if not os.path.exists(directory_path):\n",
    "        # Create the directory\n",
    "        os.makedirs(directory_path)\n",
    "        print(f\"Directory '{directory_path}' created successfully.\")\n",
    "    \n",
    "    imgs = ezomero.get_image_ids(conn, dataset=sm)\n",
    "    for im in imgs:\n",
    "        imgDesc, pix = ezomero.get_image(conn, im, xyzct=False, no_pixels=True)\n",
    "        if(imgDesc.getROICount(shapeType=\"Point\") > 0):\n",
    "            fout.write(str(sm)+\"  :  \"+imgDesc.getName()+'\\n')\n",
    "            shName = imgDesc.getName().replace(\".ome.tiff\",'')\n",
    "            imgPointsIDs = ezomero.get_roi_ids(conn, im)\n",
    "            print(\"{} has {}\".format(imgDesc.getName().replace('\\\\.ome\\\\.tiff',''), len(imgPointsIDs)))\n",
    "            fout.write(\"{} Annotations\\n\".format(len(imgPointsIDs)))\n",
    "            allThesePoints = []\n",
    "            for i in imgPointsIDs:\n",
    "                for ppI in ezomero.get_shape_ids(conn, i):\n",
    "                    try:\n",
    "                        pt, fill, border, width = ezomero.get_shape(conn, ppI)\n",
    "                        allThesePoints.append([pt.x, pt.y, pt.label,pt.label, fill, border, width])\n",
    "                    except:\n",
    "                        print(\"   Not point ID : \"+str(i))\n",
    "            #pprint(allThesePoints)\n",
    "            pointTable = pd.DataFrame(allThesePoints)\n",
    "            pointTable.columns = [\"x\",\"y\",\"class\", \"name\",\"fill\",\"border\",\"width\"]\n",
    "            # Replace values in \"Classification\" column\n",
    "            pointTable['class'] = pointTable['class'].replace({\n",
    "                'B cell': 'B Cell',\n",
    "                'T reg': 'T Reg'\n",
    "            })\n",
    "            \n",
    "            cntTbl = pointTable['class'].value_counts().to_frame()\n",
    "            noms = cntTbl.index.to_list()\n",
    "            cnts = cntTbl.values\n",
    "            for n in range(len(noms)):\n",
    "                fout.write(\"{}\\t{}\\n\".format(noms[n],cnts[n][0]))\n",
    "            fout.write(\"\\n\")\n",
    "            pointTable.to_csv(os.path.join(directory_path,shName+'-points.tsv'), index=False, sep=\"\\t\")\n"
   ]
  },
  {
   "cell_type": "code",
   "execution_count": 5,
   "id": "94673816",
   "metadata": {},
   "outputs": [],
   "source": [
    "fout.close()"
   ]
  },
  {
   "cell_type": "code",
   "execution_count": null,
   "id": "f7b622c7",
   "metadata": {},
   "outputs": [],
   "source": []
  }
 ],
 "metadata": {
  "kernelspec": {
   "display_name": "Python 3 (ipykernel)",
   "language": "python",
   "name": "python3"
  },
  "language_info": {
   "codemirror_mode": {
    "name": "ipython",
    "version": 3
   },
   "file_extension": ".py",
   "mimetype": "text/x-python",
   "name": "python",
   "nbconvert_exporter": "python",
   "pygments_lexer": "ipython3",
   "version": "3.10.9"
  }
 },
 "nbformat": 4,
 "nbformat_minor": 5
}
