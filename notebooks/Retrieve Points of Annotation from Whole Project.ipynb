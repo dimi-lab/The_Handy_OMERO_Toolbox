{
 "cells": [
  {
   "cell_type": "code",
   "execution_count": 13,
   "id": "b1c71e00",
   "metadata": {},
   "outputs": [
    {
     "name": "stdout",
     "output_type": "stream",
     "text": [
      "2024_07_17\n"
     ]
    }
   ],
   "source": [
    "import os\n",
    "import numpy as np\n",
    "import pandas as pd\n",
    "import datetime\n",
    "from pathlib import Path\n",
    "from pprint import pprint\n",
    "import configparser\n",
    "import ezomero\n",
    "from ezomero import rois\n",
    "#   https://thejacksonlaboratory.github.io/ezomero/ezomero.html#module-ezomero\n",
    "#   https://docs.openmicroscopy.org/ome-model/5.6.3/developers/roi.html\n",
    "#   https://github.com/HdBraanker/Spectral_Flow_Workflow/blob/main/script.Rmd\n",
    "datestr = datetime.datetime.now().strftime('%Y_%m_%d')\n",
    "print(datestr)"
   ]
  },
  {
   "cell_type": "code",
   "execution_count": 14,
   "id": "037f6cd9",
   "metadata": {},
   "outputs": [
    {
     "name": "stdout",
     "output_type": "stream",
     "text": [
      "Projects:\n",
      "\tPCF_2024_Transplant_Reaction_in_LN:\t1254\n"
     ]
    }
   ],
   "source": [
    "# Settings for OMERO\n",
    "home = str(Path.home())\n",
    "config = configparser.RawConfigParser()\n",
    "config.read(r'{}\\Documents\\myKeyVariables.cfg'.format(home))   \n",
    "envVars = dict(config.items('OMERO'))\n",
    "\n",
    "# Settings for OMERO\n",
    "user = envVars['user']\n",
    "password = envVars['pass']\n",
    "host = envVars['url']\n",
    "port = 4064 #4080\n",
    "secure = True #False\n",
    "outDir = envVars['pointsdownloaded']\n",
    "\n",
    "conn = ezomero.connect(user, password, 'Nguyen.J_Lab', host=host, port=port, secure=secure)\n",
    "ezomero.print_projects(conn)"
   ]
  },
  {
   "cell_type": "code",
   "execution_count": 16,
   "id": "d440b301",
   "metadata": {},
   "outputs": [
    {
     "name": "stdout",
     "output_type": "stream",
     "text": [
      "There are 5 datasets to investigate. [Tonsil21_BMS_region_006, Tonsil21_BMS_region_002, Tonsil21_BMS_region_001, Tonsil21_BMS_region_007, Tonsil21_BMS_region_020]\n"
     ]
    }
   ],
   "source": [
    "allSamps = ezomero.get_dataset_ids(conn, project=1254)\n",
    "# allSamps.extend( ezomero.get_dataset_ids(conn, project=1254) )\n",
    "\n",
    "getImageByName = {}\n",
    "for im in allSamps:\n",
    "    imgDesc, pix = ezomero.get_image(conn, im, xyzct=False, no_pixels=True)\n",
    "    imName = imgDesc.getName().replace(\".ome.tiff\",\"\")\n",
    "    getImageByName[imName] = im\n",
    "\n",
    "print(\"There are {} datasets to investigate. [{}]\".format(\n",
    "    len(allSamps), ', '.join(getImageByName.keys() )))"
   ]
  },
  {
   "cell_type": "code",
   "execution_count": 7,
   "id": "05f66b95",
   "metadata": {
    "scrolled": false
   },
   "outputs": [
    {
     "name": "stdout",
     "output_type": "stream",
     "text": [
      "Directory 'Y:\\AnalysisPipelineProjects\\DataFreeze_BMSA1_ClassificationPaper\\OMERO_POINTS\\Dataset_2012' created successfully.\n",
      "Directory 'Y:\\AnalysisPipelineProjects\\DataFreeze_BMSA1_ClassificationPaper\\OMERO_POINTS\\Dataset_2013' created successfully.\n",
      "Directory 'Y:\\AnalysisPipelineProjects\\DataFreeze_BMSA1_ClassificationPaper\\OMERO_POINTS\\Dataset_2014' created successfully.\n",
      "Directory 'Y:\\AnalysisPipelineProjects\\DataFreeze_BMSA1_ClassificationPaper\\OMERO_POINTS\\Dataset_2015' created successfully.\n",
      "Slide1_B3.ome.tif has 4\n",
      "Slide5_D1.ome.tif has 1\n",
      "Directory 'Y:\\AnalysisPipelineProjects\\DataFreeze_BMSA1_ClassificationPaper\\OMERO_POINTS\\Dataset_2016' created successfully.\n",
      "Slide5_F3.ome.tif has 858\n",
      "Slide1_B3.ome.tif has 4\n",
      "Slide5_D1.ome.tif has 1\n",
      "Slide5_F3.ome.tif has 858\n"
     ]
    }
   ],
   "source": [
    "## Image Desc\n",
    "## https://docs.openmicroscopy.org/omero/5.4.1/developers/PythonBlitzGateway.html\n",
    "# https://downloads.openmicroscopy.org/omero/5.4.10/api/python/omero/omero.gateway.html#omero.gateway._ImageWrapper\n",
    "fout = open(os.path.join(outDir,'log_omero_{}.txt'.format(datestr) ), 'w')\n",
    "for sm in allSamps:\n",
    "    directory_path = os.path.join(outDir,\"Dataset_\"+str(sm))\n",
    "    # Check if the directory exists\n",
    "    if not os.path.exists(directory_path):\n",
    "        # Create the directory\n",
    "        os.makedirs(directory_path)\n",
    "        print(f\"Directory '{directory_path}' created successfully.\")\n",
    "    \n",
    "    imgs = ezomero.get_image_ids(conn, dataset=sm)\n",
    "    for im in imgs:\n",
    "        imgDesc, pix = ezomero.get_image(conn, im, xyzct=False, no_pixels=True)\n",
    "        if(imgDesc.getROICount(shapeType=\"Point\") > 0):\n",
    "            fout.write(imgDesc.getName()+'\\n')\n",
    "            shName = imgDesc.getName().replace(\".ome.tiff\",'')\n",
    "            imgPointsIDs = ezomero.get_roi_ids(conn, im)\n",
    "            print(\"{} has {}\".format(imgDesc.getName().replace('\\\\.ome\\\\.tiff',''), len(imgPointsIDs)))\n",
    "            fout.write(\"{} Annotations\\n\".format(len(imgPointsIDs)))\n",
    "            allThesePoints = []\n",
    "            for i in imgPointsIDs:\n",
    "                for ppI in ezomero.get_shape_ids(conn, i):\n",
    "                    try:\n",
    "                        pt, fill, border, width = ezomero.get_shape(conn, ppI)\n",
    "                        allThesePoints.append([pt.x, pt.y, pt.label,pt.label, fill, border, width])\n",
    "                    except:\n",
    "                        print(\"   BAD point ID : \"+str(i))\n",
    "            #pprint(allThesePoints)\n",
    "            pointTable = pd.DataFrame(allThesePoints)\n",
    "            pointTable.columns = [\"x\",\"y\",\"class\", \"name\",\"fill\",\"border\",\"width\"]\n",
    "            cntTbl = pointTable['class'].value_counts().to_frame()\n",
    "            noms = cntTbl.index.to_list()\n",
    "            cnts = cntTbl.values\n",
    "            for n in range(len(noms)):\n",
    "                fout.write(\"{}\\t{}\\n\".format(noms[n],cnts[n][0]))\n",
    "            fout.write(\"\\n\")\n",
    "            pointTable.to_csv(os.path.join(directory_path,shName+'-points.tsv'), index=False, sep=\"\\t\")\n"
   ]
  },
  {
   "cell_type": "code",
   "execution_count": 8,
   "id": "94673816",
   "metadata": {},
   "outputs": [],
   "source": [
    "fout.close()"
   ]
  },
  {
   "cell_type": "code",
   "execution_count": null,
   "id": "f7b622c7",
   "metadata": {},
   "outputs": [],
   "source": []
  }
 ],
 "metadata": {
  "kernelspec": {
   "display_name": "Python 3 (ipykernel)",
   "language": "python",
   "name": "python3"
  },
  "language_info": {
   "codemirror_mode": {
    "name": "ipython",
    "version": 3
   },
   "file_extension": ".py",
   "mimetype": "text/x-python",
   "name": "python",
   "nbconvert_exporter": "python",
   "pygments_lexer": "ipython3",
   "version": "3.10.9"
  }
 },
 "nbformat": 4,
 "nbformat_minor": 5
}
