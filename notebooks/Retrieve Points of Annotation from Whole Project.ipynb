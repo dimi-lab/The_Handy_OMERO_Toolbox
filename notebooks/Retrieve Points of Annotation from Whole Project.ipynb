{
 "cells": [
  {
   "cell_type": "code",
   "execution_count": 1,
   "id": "b1c71e00",
   "metadata": {},
   "outputs": [],
   "source": [
    "import os\n",
    "import numpy as np\n",
    "import pandas as pd\n",
    "from datetime import datetime\n",
    "from pprint import pprint\n",
    "import configparser\n",
    "import ezomero\n",
    "from ezomero import rois\n",
    "#   https://thejacksonlaboratory.github.io/ezomero/ezomero.html#module-ezomero\n",
    "#   https://docs.openmicroscopy.org/ome-model/5.6.3/developers/roi.html\n",
    "#   https://github.com/HdBraanker/Spectral_Flow_Workflow/blob/main/script.Rmd"
   ]
  },
  {
   "cell_type": "code",
   "execution_count": 14,
   "id": "037f6cd9",
   "metadata": {},
   "outputs": [
    {
     "name": "stdout",
     "output_type": "stream",
     "text": [
      "Projects:\n",
      "\tOVCA_TMA22:\t408\n",
      "\t0004_VisCyt_CW_09132023:\t859\n"
     ]
    }
   ],
   "source": [
    "config = configparser.RawConfigParser()\n",
    "config.read(r'C:\\Users\\m088378\\Documents\\myKeyVariables.cfg')   \n",
    "envVars = dict(config.items('OMERO'))\n",
    "\n",
    "# Settings for OMERO\n",
    "user = envVars['user']\n",
    "password = envVars['pass']\n",
    "host = envVars['url']\n",
    "port = 4064 #4080\n",
    "secure = True #False\n",
    "outDir = envVars['pointsdownloaded']\n",
    "\n",
    "conn = ezomero.connect(user, password, 'Wang.C_Lab', host=host, port=port, secure=secure)\n",
    "ezomero.print_projects(conn)"
   ]
  },
  {
   "cell_type": "code",
   "execution_count": 15,
   "id": "d440b301",
   "metadata": {},
   "outputs": [
    {
     "name": "stdout",
     "output_type": "stream",
     "text": [
      "There are 5 datasets to investigate.\n"
     ]
    }
   ],
   "source": [
    "allSamps = ezomero.get_dataset_ids(conn, project=408)\n",
    "print(\"There are {} datasets to investigate.\".format(len(allSamps)))"
   ]
  },
  {
   "cell_type": "code",
   "execution_count": 16,
   "id": "05f66b95",
   "metadata": {
    "scrolled": false
   },
   "outputs": [
    {
     "name": "stdout",
     "output_type": "stream",
     "text": [
      "OVCA_TMA22_region_110.ome.tiff has 179 ROIs\n",
      "OVCA_TMA22_region_107.ome.tiff has 174 ROIs\n",
      "OVCA_TMA22_region_064.ome.tiff has 166 ROIs\n",
      "OVCA_TMA22_region_055.ome.tiff has 174 ROIs\n",
      "OVCA_TMA22_region_135.ome.tiff has 103 ROIs\n",
      "OVCA_TMA22_region_046.ome.tiff has 43 ROIs\n",
      "OVCA_TMA22_region_065.ome.tiff has 181 ROIs\n",
      "OVCA_TMA22_region_195.ome.tiff has 238 ROIs\n",
      "OVCA_TMA22_region_172.ome.tiff has 191 ROIs\n",
      "OVCA_TMA22_region_313.ome.tiff has 230 ROIs\n",
      "OVCA_TMA22_region_070.ome.tiff has 248 ROIs\n",
      "OVCA_TMA22_region_039.ome.tiff has 95 ROIs\n",
      "OVCA_TMA22_region_137.ome.tiff has 189 ROIs\n",
      "OVCA_TMA22_region_060.ome.tiff has 104 ROIs\n",
      "OVCA_TMA22_region_145.ome.tiff has 183 ROIs\n",
      "OVCA_TMA22_region_062.ome.tiff has 169 ROIs\n",
      "OVCA_TMA22_region_030.ome.tiff has 288 ROIs\n",
      "OVCA_TMA22_region_087.ome.tiff has 301 ROIs\n",
      "OVCA_TMA22_region_093.ome.tiff has 254 ROIs\n",
      "OVCA_TMA22_region_144.ome.tiff has 156 ROIs\n",
      "OVCA_TMA22_region_049.ome.tiff has 168 ROIs\n",
      "OVCA_TMA22_region_179.ome.tiff has 76 ROIs\n",
      "OVCA_TMA22_region_132.ome.tiff has 185 ROIs\n",
      "OVCA_TMA22_region_139.ome.tiff has 155 ROIs\n",
      "OVCA_TMA22_region_059.ome.tiff has 157 ROIs\n",
      "OVCA_TMA22_region_109.ome.tiff has 125 ROIs\n",
      "OVCA_TMA22_region_009.ome.tiff has 147 ROIs\n",
      "OVCA_TMA22_region_054.ome.tiff has 65 ROIs\n",
      "OVCA_TMA22_region_143.ome.tiff has 124 ROIs\n",
      "OVCA_TMA22_region_041.ome.tiff has 183 ROIs\n",
      "OVCA_TMA22_region_130.ome.tiff has 190 ROIs\n",
      "OVCA_TMA22_region_016.ome.tiff has 77 ROIs\n",
      "OVCA_TMA22_region_105.ome.tiff has 145 ROIs\n",
      "OVCA_TMA22_region_157.ome.tiff has 181 ROIs\n",
      "OVCA_TMA22_region_096.ome.tiff has 233 ROIs\n",
      "OVCA_TMA22_region_191.ome.tiff has 131 ROIs\n",
      "OVCA_TMA22_region_020.ome.tiff has 164 ROIs\n",
      "OVCA_TMA22_region_014.ome.tiff has 102 ROIs\n",
      "OVCA_TMA22_region_138.ome.tiff has 159 ROIs\n",
      "OVCA_TMA22_region_052.ome.tiff has 113 ROIs\n",
      "OVCA_TMA22_region_042.ome.tiff has 259 ROIs\n",
      "OVCA_TMA22_region_029.ome.tiff has 212 ROIs\n",
      "OVCA_TMA22_region_142.ome.tiff has 176 ROIs\n",
      "OVCA_TMA22_region_004.ome.tiff has 109 ROIs\n",
      "OVCA_TMA22_region_102.ome.tiff has 129 ROIs\n",
      "OVCA_TMA22_region_178.ome.tiff has 97 ROIs\n",
      "OVCA_TMA22_region_181.ome.tiff has 138 ROIs\n",
      "OVCA_TMA22_region_026.ome.tiff has 59 ROIs\n",
      "OVCA_TMA22_region_124.ome.tiff has 169 ROIs\n",
      "OVCA_TMA22_region_012.ome.tiff has 240 ROIs\n",
      "OVCA_TMA22_region_108.ome.tiff has 139 ROIs\n",
      "OVCA_TMA22_region_063.ome.tiff has 149 ROIs\n",
      "OVCA_TMA22_region_103.ome.tiff has 24 ROIs\n",
      "OVCA_TMA22_region_033.ome.tiff has 181 ROIs\n",
      "OVCA_TMA22_region_129.ome.tiff has 192 ROIs\n",
      "OVCA_TMA22_region_034.ome.tiff has 107 ROIs\n",
      "OVCA_TMA22_region_170.ome.tiff has 178 ROIs\n",
      "OVCA_TMA22_region_117.ome.tiff has 124 ROIs\n",
      "OVCA_TMA22_region_075.ome.tiff has 127 ROIs\n",
      "OVCA_TMA22_region_167.ome.tiff has 187 ROIs\n",
      "OVCA_TMA22_region_104.ome.tiff has 180 ROIs\n",
      "OVCA_TMA22_region_073.ome.tiff has 183 ROIs\n",
      "OVCA_TMA22_region_171.ome.tiff has 181 ROIs\n",
      "OVCA_TMA22_region_177.ome.tiff has 117 ROIs\n",
      "OVCA_TMA22_region_040.ome.tiff has 55 ROIs\n",
      "OVCA_TMA22_region_158.ome.tiff has 152 ROIs\n",
      "OVCA_TMA22_region_031.ome.tiff has 115 ROIs\n",
      "OVCA_TMA22_region_069.ome.tiff has 90 ROIs\n",
      "OVCA_TMA22_region_088.ome.tiff has 168 ROIs\n",
      "OVCA_TMA22_region_101.ome.tiff has 268 ROIs\n",
      "OVCA_TMA22_region_035.ome.tiff has 107 ROIs\n",
      "OVCA_TMA22_region_044.ome.tiff has 158 ROIs\n",
      "OVCA_TMA22_region_047.ome.tiff has 143 ROIs\n",
      "OVCA_TMA22_region_133.ome.tiff has 79 ROIs\n",
      "OVCA_TMA22_region_168.ome.tiff has 132 ROIs\n",
      "OVCA_TMA22_region_079.ome.tiff has 211 ROIs\n",
      "OVCA_TMA22_region_128.ome.tiff has 218 ROIs\n",
      "OVCA_TMA22_region_061.ome.tiff has 109 ROIs\n",
      "OVCA_TMA22_region_141.ome.tiff has 150 ROIs\n",
      "OVCA_TMA22_region_071.ome.tiff has 199 ROIs\n",
      "OVCA_TMA22_region_007.ome.tiff has 174 ROIs\n",
      "OVCA_TMA22_region_123.ome.tiff has 54 ROIs\n",
      "OVCA_TMA22_region_304.ome.tiff has 247 ROIs\n",
      "OVCA_TMA22_region_002.ome.tiff has 150 ROIs\n",
      "OVCA_TMA22_region_051.ome.tiff has 194 ROIs\n",
      "OVCA_TMA22_region_025.ome.tiff has 128 ROIs\n",
      "OVCA_TMA22_region_193.ome.tiff has 237 ROIs\n",
      "OVCA_TMA22_region_152.ome.tiff has 118 ROIs\n",
      "OVCA_TMA22_region_346.ome.tiff has 282 ROIs\n",
      "OVCA_TMA22_region_015.ome.tiff has 245 ROIs\n",
      "OVCA_TMA22_region_113.ome.tiff has 211 ROIs\n",
      "OVCA_TMA22_region_174.ome.tiff has 123 ROIs\n",
      "OVCA_TMA22_region_005.ome.tiff has 188 ROIs\n",
      "OVCA_TMA22_region_184.ome.tiff has 37 ROIs\n",
      "OVCA_TMA22_region_058.ome.tiff has 73 ROIs\n",
      "OVCA_TMA22_region_118.ome.tiff has 227 ROIs\n",
      "OVCA_TMA22_region_053.ome.tiff has 78 ROIs\n",
      "OVCA_TMA22_region_194.ome.tiff has 38 ROIs\n",
      "OVCA_TMA22_region_164.ome.tiff has 122 ROIs\n",
      "OVCA_TMA22_region_156.ome.tiff has 223 ROIs\n",
      "Slide2050_24Plex.ome.tif has 3 ROIs\n",
      "OVCA_Series_1_TMA_consecutive_slide.czi [0] has 3 ROIs\n"
     ]
    }
   ],
   "source": [
    "## Image Desc\n",
    "## https://docs.openmicroscopy.org/omero/5.4.1/developers/PythonBlitzGateway.html\n",
    "# https://downloads.openmicroscopy.org/omero/5.4.10/api/python/omero/omero.gateway.html#omero.gateway._ImageWrapper\n",
    "fout = open('log_omero_points.txt', 'w')\n",
    "for sm in allSamps:\n",
    "    imgs = ezomero.get_image_ids(conn, dataset=sm)\n",
    "    for im in imgs:\n",
    "        imgDesc, pix = ezomero.get_image(conn, im, xyzct=False, no_pixels=True)\n",
    "        if(imgDesc.getROICount(shapeType=\"Point\") > 0):\n",
    "            fout.write(imgDesc.getName()+'\\n')\n",
    "            shName = imgDesc.getName().replace(\".ome.tiff\",'')\n",
    "            imgPointsIDs = ezomero.get_roi_ids(conn, im)\n",
    "            print(\"{} has {}\".format(imgDesc.getName().replace('\\\\.ome\\\\.tiff',''), len(imgPointsIDs)))\n",
    "            fout.write(\"{} ROIs\\n\".format(len(imgPointsIDs)))\n",
    "            allThesePoints = []\n",
    "            for i in imgPointsIDs:\n",
    "                for ppI in ezomero.get_shape_ids(conn, i):\n",
    "                    try:\n",
    "                        pt, fill, border, width = ezomero.get_shape(conn, ppI)\n",
    "                        allThesePoints.append([pt.x, pt.y, pt.label,pt.label, fill, border, width])\n",
    "                    except:\n",
    "                        print(\"   BAD point ID : \"+str(i))\n",
    "            #pprint(allThesePoints)\n",
    "            pointTable = pd.DataFrame(allThesePoints)\n",
    "            pointTable.columns = [\"x\",\"y\",\"class\", \"name\",\"fill\",\"border\",\"width\"]\n",
    "            cntTbl = pointTable['class'].value_counts().to_frame()\n",
    "            noms = cntTbl.index.to_list()\n",
    "            cnts = cntTbl.values\n",
    "            for n in range(len(noms)):\n",
    "                fout.write(\"{}\\t{}\\n\".format(noms[n],cnts[n][0]))\n",
    "            fout.write(\"\\n\")\n",
    "            pointTable.to_csv(os.path.join(outDir,shName+'-points.tsv'), index=False, sep=\"\\t\")\n"
   ]
  },
  {
   "cell_type": "code",
   "execution_count": 17,
   "id": "94673816",
   "metadata": {},
   "outputs": [],
   "source": [
    "fout.close()"
   ]
  },
  {
   "cell_type": "code",
   "execution_count": null,
   "id": "f7b622c7",
   "metadata": {},
   "outputs": [],
   "source": []
  }
 ],
 "metadata": {
  "kernelspec": {
   "display_name": "Python 3 (ipykernel)",
   "language": "python",
   "name": "python3"
  },
  "language_info": {
   "codemirror_mode": {
    "name": "ipython",
    "version": 3
   },
   "file_extension": ".py",
   "mimetype": "text/x-python",
   "name": "python",
   "nbconvert_exporter": "python",
   "pygments_lexer": "ipython3",
   "version": "3.10.9"
  }
 },
 "nbformat": 4,
 "nbformat_minor": 5
}
