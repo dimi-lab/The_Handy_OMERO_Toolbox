{
 "cells": [
  {
   "cell_type": "code",
   "execution_count": 1,
   "id": "622697e3",
   "metadata": {},
   "outputs": [],
   "source": [
    "import os\n",
    "from pathlib import Path\n",
    "import numpy as np\n",
    "import pandas as pd\n",
    "from datetime import datetime\n",
    "from pprint import pprint\n",
    "import configparser\n",
    "import ezomero\n",
    "from ezomero import rois\n",
    "# https://downloads.openmicroscopy.org/omero/5.4.1/api/omero/gateway/model/ImageData.html"
   ]
  },
  {
   "cell_type": "code",
   "execution_count": 2,
   "id": "dad4f404",
   "metadata": {},
   "outputs": [],
   "source": [
    "home = str(Path.home())\n",
    "config = configparser.RawConfigParser()\n",
    "config.read(r'{}\\Documents\\myKeyVariables.cfg'.format(home))   \n",
    "envVars = dict(config.items('OMERO'))\n",
    "\n",
    "# Settings for OMERO\n",
    "user = envVars['user']\n",
    "password = envVars['pass']\n",
    "host = envVars['url']\n",
    "port = 4064 #4080\n",
    "secure = True #False\n",
    "outDir = envVars['pointsdownloaded']"
   ]
  },
  {
   "cell_type": "code",
   "execution_count": 3,
   "id": "e651ad95",
   "metadata": {},
   "outputs": [
    {
     "name": "stdout",
     "output_type": "stream",
     "text": [
      "There are 5 projects to investigate.\n",
      "  There are 3 datasets to investigate.\n",
      "  There are 6 datasets to investigate.\n",
      "  There are 10 datasets to investigate.\n",
      "  There are 4 datasets to investigate.\n",
      "  There are 1 datasets to investigate.\n"
     ]
    }
   ],
   "source": [
    "conn = ezomero.connect(user, password, 'Wang.C_Lab', host=host, port=port, secure=secure)\n",
    "#ezomero.print_projects(conn) \n",
    "allPrjts = ezomero.get_project_ids(conn, across_groups=False)\n",
    "print(\"There are {} projects to investigate.\".format(len(allPrjts)))\n",
    "\n",
    "allRecords = []\n",
    "\n",
    "for pj in allPrjts:\n",
    "    allSamps = ezomero.get_dataset_ids(conn, project=pj)\n",
    "    print(\"  There are {} datasets to investigate.\".format(len(allSamps)))\n",
    "    \n",
    "    for sm in allSamps:\n",
    "        imgs = ezomero.get_image_ids(conn, dataset=sm)\n",
    "        for im in imgs:\n",
    "            imgDesc, pix = ezomero.get_image(conn, im, xyzct=False, no_pixels=True)\n",
    "            aquiredDate = ''\n",
    "            if imgDesc.getAcquisitionDate() is not None:\n",
    "                aquiredDate = imgDesc.getAcquisitionDate().strftime(\"%Y-%m-%d %H:%M:%S\")\n",
    "            rw = [pj, sm, im, imgDesc.getName(), imgDesc.getInstrument(), imgDesc.getDescription(), \n",
    "                 aquiredDate, imgDesc.getSizeX(), imgDesc.getSizeY(),\n",
    "                 imgDesc.getSizeZ(), imgDesc.getSizeC(), imgDesc.getSizeT(), ezomero.get_pyramid_levels(conn, im)]\n",
    "            allRecords.append(rw)"
   ]
  },
  {
   "cell_type": "code",
   "execution_count": 4,
   "id": "a68304a3",
   "metadata": {},
   "outputs": [],
   "source": [
    "fullData = pd.DataFrame(allRecords)\n",
    "fullData.columns = ['Project_id', 'Dataset_id', 'Image_id', 'Image_Name', 'Instrument', 'Image_Description', \n",
    "                    'Upload_Date','X','Y','Z','C','T','Pyramidal_Levels']\n",
    "\n",
    "fullData.to_csv(r'{}\\Documents\\DIMILab_OmeroImageSizes.tsv'.format(home), sep='\\t')"
   ]
  },
  {
   "cell_type": "code",
   "execution_count": null,
   "id": "ea333543",
   "metadata": {},
   "outputs": [],
   "source": []
  }
 ],
 "metadata": {
  "kernelspec": {
   "display_name": "Python 3 (ipykernel)",
   "language": "python",
   "name": "python3"
  },
  "language_info": {
   "codemirror_mode": {
    "name": "ipython",
    "version": 3
   },
   "file_extension": ".py",
   "mimetype": "text/x-python",
   "name": "python",
   "nbconvert_exporter": "python",
   "pygments_lexer": "ipython3",
   "version": "3.10.9"
  }
 },
 "nbformat": 4,
 "nbformat_minor": 5
}
